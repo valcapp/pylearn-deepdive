{
 "cells": [
  {
   "cell_type": "markdown",
   "source": [
    "### Coding Exercises"
   ],
   "metadata": {}
  },
  {
   "cell_type": "markdown",
   "source": [
    "#### Exercise 1"
   ],
   "metadata": {}
  },
  {
   "cell_type": "markdown",
   "source": [
    "Write a Python function that will create and return a dictionary from another dictionary, but sorted by value. You can assume the values are all comparable and have a natural sort order."
   ],
   "metadata": {}
  },
  {
   "cell_type": "markdown",
   "source": [
    "For example, given the following dictionary:"
   ],
   "metadata": {}
  },
  {
   "cell_type": "code",
   "execution_count": 2,
   "source": [
    "composers = {'Johann': 65, 'Ludwig': 56, 'Frederic': 39, 'Wolfgang': 35}"
   ],
   "outputs": [],
   "metadata": {}
  },
  {
   "cell_type": "code",
   "execution_count": 11,
   "source": [
    "def method_1(composers):\n",
    "    sorted_keys = sorted(\n",
    "        composers,\n",
    "        key = lambda comp: composers[comp]\n",
    "    )\n",
    "    return {key: composers[key] for key in sorted_keys}\n",
    "\n",
    "def method_2(composers):\n",
    "    sorted_keys = sorted(\n",
    "        composers,\n",
    "        key = lambda comp: composers[comp]\n",
    "    )\n",
    "    sorted_composers = dict.fromkeys(sorted_keys)\n",
    "    sorted_composers.update(composers)\n",
    "    return sorted_composers\n",
    "\n",
    "def method_2(composers):\n",
    "    sorted_keys = sorted(composers,\n",
    "        key = lambda comp: composers[comp]\n",
    "    )\n",
    "    return {\n",
    "        **dict.fromkeys(sorted_keys),\n",
    "        **composers\n",
    "    }\n",
    "\n",
    "\n",
    "def method_3(composers):\n",
    "    return dict(sorted(\n",
    "        composers.items(),\n",
    "        key = lambda item: item[1]\n",
    "    ))\n",
    "\n",
    "\n",
    "from timeit import timeit\n",
    "t1 = timeit('method_1(composers)', globals=globals(), number=1_000_000)\n",
    "t2 = timeit('method_2(composers)', globals=globals(), number=1_000_000)\n",
    "t3 = timeit('method_3(composers)', globals=globals(), number=1_000_000)\n",
    "\n",
    "print(f'Method 1: {str(t1)}s ; {method_1(composers)}')\n",
    "print(f'Method 2: {str(t2)}s ; {method_2(composers)}')\n",
    "print(f'Method 3: {str(t3)}s ; {method_3(composers)}')"
   ],
   "outputs": [
    {
     "output_type": "stream",
     "name": "stdout",
     "text": [
      "Method 1: 1.4406031650000841s ; {'Wolfgang': 35, 'Frederic': 39, 'Ludwig': 56, 'Johann': 65}\n",
      "Method 2: 1.3907366600001296s ; {'Wolfgang': 35, 'Frederic': 39, 'Ludwig': 56, 'Johann': 65}\n",
      "Method 3: 1.2769472530001167s ; {'Wolfgang': 35, 'Frederic': 39, 'Ludwig': 56, 'Johann': 65}\n"
     ]
    }
   ],
   "metadata": {}
  },
  {
   "cell_type": "markdown",
   "source": [
    "Your function should return a dictionary that looks like the following:"
   ],
   "metadata": {}
  },
  {
   "cell_type": "code",
   "execution_count": 2,
   "source": [
    "sorted_composers = {'Wolfgang': 35,\n",
    "                    'Frederic': 39, \n",
    "                    'Ludwig': 56,\n",
    "                    'Johann': 65}"
   ],
   "outputs": [],
   "metadata": {}
  },
  {
   "cell_type": "markdown",
   "source": [
    "Remember if you are using Jupyter notebook to use `print()` to view your dictionary in it's natural ordering (in case Jupyter displays your dictionary sorted by key).\n",
    "\n",
    "Also try to keep your code Pythonic - i.e. don't start with an empty dictionary and build it up one key at a time - look for a different, more Pythonic, way of doing it. \n",
    "\n",
    "Hint: you'll likely want to use Python's `sorted` function."
   ],
   "metadata": {}
  },
  {
   "cell_type": "markdown",
   "source": [
    "---"
   ],
   "metadata": {}
  },
  {
   "cell_type": "markdown",
   "source": [
    "#### Exercise 2"
   ],
   "metadata": {}
  },
  {
   "cell_type": "markdown",
   "source": [
    "Given two dictionaries, `d1` and `d2`, write a function that creates a dictionary that contains only the keys common to both dictionaries, with values being a tuple containg the values from `d1` and `d2`. (Order of keys is not important)."
   ],
   "metadata": {}
  },
  {
   "cell_type": "markdown",
   "source": [
    "For example, given two dictionaries as follows:"
   ],
   "metadata": {}
  },
  {
   "cell_type": "code",
   "execution_count": 28,
   "source": [
    "d1 = {'a': 1, 'b': 2, 'c': 3, 'd': 4}\n",
    "d2 = {'b': 20, 'c': 30, 'y': 40, 'z': 50}"
   ],
   "outputs": [],
   "metadata": {}
  },
  {
   "cell_type": "code",
   "execution_count": 29,
   "source": [
    "\n",
    "import functools\n",
    "\n",
    "def method_1(*dcts):\n",
    "    common_keys = functools.reduce(\n",
    "        lambda common_set, new_set: common_set & new_set,\n",
    "        map(lambda dct: set(dct.keys()), dcts[1:]),\n",
    "        set(dcts[0].keys())\n",
    "    )\n",
    "    return {\n",
    "        key: tuple(\n",
    "            map(lambda dct: dct[key], dcts)\n",
    "        ) for key in common_keys\n",
    "    }\n",
    "    \n",
    "method_1(d1, d2)"
   ],
   "outputs": [
    {
     "output_type": "execute_result",
     "data": {
      "text/plain": [
       "{'b': (2, 20), 'c': (3, 30)}"
      ]
     },
     "metadata": {},
     "execution_count": 29
    }
   ],
   "metadata": {}
  },
  {
   "cell_type": "markdown",
   "source": [
    "Your function should return a dictionary that looks like this:"
   ],
   "metadata": {}
  },
  {
   "cell_type": "code",
   "execution_count": 4,
   "source": [
    "d = {'b': (2, 20), 'c': (3, 30)}"
   ],
   "outputs": [],
   "metadata": {}
  },
  {
   "cell_type": "markdown",
   "source": [
    "Hint: Remember that `s1 & s2` will return the intersection of two sets."
   ],
   "metadata": {}
  },
  {
   "cell_type": "markdown",
   "source": [
    "Again, try to keep your code Pythonic - don't just start with an empty dictionary and build it up one by one - think of a cleaner approach."
   ],
   "metadata": {}
  },
  {
   "cell_type": "markdown",
   "source": [
    "---"
   ],
   "metadata": {}
  },
  {
   "cell_type": "markdown",
   "source": [
    "#### Exercise 3"
   ],
   "metadata": {}
  },
  {
   "cell_type": "markdown",
   "source": [
    "You have text data spread across multiple servers.\n",
    "Each server is able to analyze this data and return a dictionary that contains words and their frequency.\n",
    "\n",
    "Your job is to combine this data to create a single dictionary that contains all the words and their combined frequencies from all these data sources. Bonus points if you can make your dictionary sorted by frequency (highest to lowest).\n",
    "\n",
    "For example, you may have three servers that each return these dictionaries:"
   ],
   "metadata": {}
  },
  {
   "cell_type": "code",
   "execution_count": 21,
   "source": [
    "d1 = {'python': 10, 'java': 3, 'c#': 8, 'javascript': 15}\n",
    "d2 = {'java': 10, 'c++': 10, 'c#': 4, 'go': 9, 'python': 6}\n",
    "d3 = {'erlang': 5, 'haskell': 2, 'python': 1, 'pascal': 1}"
   ],
   "outputs": [],
   "metadata": {}
  },
  {
   "cell_type": "code",
   "execution_count": 26,
   "source": [
    "d1 = {'python': 10, 'java': 3, 'c#': 8, 'javascript': 15}\n",
    "d2 = {'java': 10, 'c++': 10, 'c#': 4, 'go': 9, 'python': 6}\n",
    "d3 = {'erlang': 5, 'haskell': 2, 'python': 1, 'pascal': 1}\n",
    "\n",
    "def method_1(*dcts):\n",
    "    summed = functools.reduce(\n",
    "        lambda tot, new: {\n",
    "            **tot,\n",
    "            **{ key: tot.get(key, 0) + val\n",
    "                for key, val in new.items() }\n",
    "        },dcts,{}\n",
    "    )\n",
    "    return dict(sorted(\n",
    "        summed.items(),\n",
    "        key = lambda item: item[1],\n",
    "        reverse = True\n",
    "    ))\n",
    "\n",
    "def method_2(*dcts):\n",
    "    unsorted = {}\n",
    "    for dct in dcts:\n",
    "        for key, val in dct.items():\n",
    "            unsorted[key] = unsorted.get(key,0) + val\n",
    "    return dict(sorted(\n",
    "        unsorted.items(),\n",
    "        key= lambda it: it[1],\n",
    "        reverse=True\n",
    "    ))\n",
    "\n",
    "t1 = timeit('method_1(d1, d2, d3)', globals=globals(), number=1_000_000)\n",
    "t2 = timeit('method_2(d1, d2, d3)', globals=globals(), number=1_000_000)\n",
    "\n",
    "print(f'Method 1: {str(t1)}s ; {method_1(d1, d2, d3)}')\n",
    "print(f'Method 2: {str(t2)}s ; {method_2(d1, d2, d3)}')"
   ],
   "outputs": [
    {
     "output_type": "execute_result",
     "data": {
      "text/plain": [
       "{'python': 17,\n",
       " 'javascript': 15,\n",
       " 'java': 13,\n",
       " 'c#': 12,\n",
       " 'c++': 10,\n",
       " 'go': 9,\n",
       " 'erlang': 5,\n",
       " 'haskell': 2,\n",
       " 'pascal': 1}"
      ]
     },
     "metadata": {},
     "execution_count": 26
    }
   ],
   "metadata": {}
  },
  {
   "cell_type": "markdown",
   "source": [
    "Your resulting dictionary should look like this:"
   ],
   "metadata": {}
  },
  {
   "cell_type": "code",
   "execution_count": 6,
   "source": [
    "d = {'python': 17,\n",
    "     'javascript': 15,\n",
    "     'java': 13,\n",
    "     'c#': 12,\n",
    "     'c++': 10,\n",
    "     'go': 9,\n",
    "     'erlang': 5,\n",
    "     'haskell': 2,\n",
    "     'pascal': 1}"
   ],
   "outputs": [],
   "metadata": {}
  },
  {
   "cell_type": "markdown",
   "source": [
    "If only servers 1 and 2 return data (so d1 and d2), your results would look like:"
   ],
   "metadata": {}
  },
  {
   "cell_type": "code",
   "execution_count": 7,
   "source": [
    "d = {'python': 16,\n",
    "     'javascript': 15,\n",
    "     'java': 13,\n",
    "     'c#': 12,\n",
    "     'c++': 10, \n",
    "     'go': 9}"
   ],
   "outputs": [],
   "metadata": {}
  },
  {
   "cell_type": "markdown",
   "source": [
    "---"
   ],
   "metadata": {}
  },
  {
   "cell_type": "markdown",
   "source": [
    "#### Exercise 4"
   ],
   "metadata": {}
  },
  {
   "cell_type": "markdown",
   "source": [
    "For this exercise suppose you have a web API load balanced across multiple nodes. This API receives various requests for resources and logs each request to some local storage. Each instance of the API is able to return a dictionary containing the resource that was accessed (the dictionary key) and the number of times it was requested (the associated value).\n",
    "\n",
    "Your task here is to identify resources that have been requested on some, but not all the servers, so you can determine if you have an issue with your load balancer not distributing certain resource requests across all nodes.\n",
    "\n",
    "For simplicity, we will assume that there are exactly 3 nodes in the cluster.\n",
    "\n",
    "You should write a function that takes 3 dictionaries as arguments for node 1, node 2, and node 3, and returns a dictionary that contains only keys that are not found in **all** of the dictionaries. The value should be a list containing the number of times it was requested in each node (the node order should match the dictionary (node) order passed to your function). Use `0` if the resource was not requested from the corresponding node."
   ],
   "metadata": {}
  },
  {
   "cell_type": "markdown",
   "source": [
    "Suppose your dictionaries are for logs of all the GET requests on each node:"
   ],
   "metadata": {}
  },
  {
   "cell_type": "code",
   "execution_count": 30,
   "source": [
    "n1 = {'employees': 100, 'employee': 5000, 'users': 10, 'user': 100}\n",
    "n2 = {'employees': 250, 'users': 23, 'user': 230}\n",
    "n3 = {'employees': 150, 'users': 4, 'login': 1000}"
   ],
   "outputs": [],
   "metadata": {}
  },
  {
   "cell_type": "code",
   "execution_count": 34,
   "source": [
    "def method_1(*dcts):\n",
    "    keys_sets = tuple(\n",
    "        set(dct.keys())\n",
    "        for dct in dcts\n",
    "    )\n",
    "    all_keys = functools.reduce(\n",
    "        lambda tot, new: tot | new,\n",
    "        keys_sets,\n",
    "        set()\n",
    "    )\n",
    "    common_keys = functools.reduce(\n",
    "        lambda tot, new: tot & new,\n",
    "        keys_sets[1:],\n",
    "        keys_sets[0]\n",
    "    )\n",
    "    uncommon_keys = all_keys - common_keys\n",
    "    return {\n",
    "        key: tuple( dct.get(key,0) for dct in dcts )\n",
    "        for key in uncommon_keys\n",
    "    }\n",
    "\n",
    "method_1(n1, n2, n3)"
   ],
   "outputs": [
    {
     "output_type": "execute_result",
     "data": {
      "text/plain": [
       "{'login': (0, 0, 1000), 'user': (100, 230, 0), 'employee': (5000, 0, 0)}"
      ]
     },
     "metadata": {},
     "execution_count": 34
    }
   ],
   "metadata": {}
  },
  {
   "cell_type": "markdown",
   "source": [
    "Your result should then be:"
   ],
   "metadata": {}
  },
  {
   "cell_type": "code",
   "execution_count": 9,
   "source": [
    "result = {'employee': (5000, 0, 0),\n",
    "          'user': (100, 230, 0),\n",
    "          'login': (0, 0, 1000)}"
   ],
   "outputs": [],
   "metadata": {}
  },
  {
   "cell_type": "markdown",
   "source": [
    "Tip: \n",
    "to find the difference between two sets, you can subtract one from the other:"
   ],
   "metadata": {}
  },
  {
   "cell_type": "code",
   "execution_count": 10,
   "source": [
    "s1 = {1, 2, 3, 4}\n",
    "s2 = {1, 2, 3}\n",
    "s1 - s2"
   ],
   "outputs": [
    {
     "output_type": "execute_result",
     "data": {
      "text/plain": [
       "{4}"
      ]
     },
     "metadata": {},
     "execution_count": 10
    }
   ],
   "metadata": {}
  },
  {
   "cell_type": "markdown",
   "source": [
    "Tip: to get the union of two (or more) sets you can use the `|` operator:"
   ],
   "metadata": {}
  },
  {
   "cell_type": "code",
   "execution_count": 11,
   "source": [
    "s1 = {1, 2, 3}\n",
    "s2 = {2, 3, 4}\n",
    "s1 | s2"
   ],
   "outputs": [
    {
     "output_type": "execute_result",
     "data": {
      "text/plain": [
       "{1, 2, 3, 4}"
      ]
     },
     "metadata": {},
     "execution_count": 11
    }
   ],
   "metadata": {}
  },
  {
   "cell_type": "markdown",
   "source": [
    "Tip: to get the intersection of two (or more) sets you can use the `&` operator:"
   ],
   "metadata": {}
  },
  {
   "cell_type": "code",
   "execution_count": 12,
   "source": [
    "s1 = {1, 2, 3, 4}\n",
    "s2 = {2, 3}\n",
    "s1 & s2"
   ],
   "outputs": [
    {
     "output_type": "execute_result",
     "data": {
      "text/plain": [
       "{2, 3}"
      ]
     },
     "metadata": {},
     "execution_count": 12
    }
   ],
   "metadata": {}
  },
  {
   "cell_type": "markdown",
   "source": [
    "Hint: It might be helpful to draw out a set diagram and consider what subset you are trying to isolate."
   ],
   "metadata": {}
  }
 ],
 "metadata": {
  "kernelspec": {
   "name": "python3",
   "display_name": "Python 3.8.2 64-bit"
  },
  "language_info": {
   "codemirror_mode": {
    "name": "ipython",
    "version": 3
   },
   "file_extension": ".py",
   "mimetype": "text/x-python",
   "name": "python",
   "nbconvert_exporter": "python",
   "pygments_lexer": "ipython3",
   "version": "3.8.2"
  },
  "interpreter": {
   "hash": "4cd7ab41f5fca4b9b44701077e38c5ffd31fe66a6cab21e0214b68d958d0e462"
  }
 },
 "nbformat": 4,
 "nbformat_minor": 2
}