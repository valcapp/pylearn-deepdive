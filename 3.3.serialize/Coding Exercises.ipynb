{
 "cells": [
  {
   "cell_type": "markdown",
   "source": [
    "### Coding Exercises"
   ],
   "metadata": {}
  },
  {
   "cell_type": "markdown",
   "source": [
    "Consider the following classes:"
   ],
   "metadata": {}
  },
  {
   "cell_type": "code",
   "execution_count": 71,
   "source": [
    "\n",
    "\n",
    "import inspect\n",
    "\n",
    "class AutoRepr:\n",
    "    @classmethod\n",
    "    def vars_signature(cls, obj):\n",
    "        \"\"\"return a map of attribute names to __init__ arguments names\"\"\"\n",
    "        params = inspect.signature(cls.__init__).parameters.keys()\n",
    "        inits = {}\n",
    "        # print('inits: vars(cls)=', vars(obj))\n",
    "        for attr in vars(obj):\n",
    "            par = next((\n",
    "                par for par in params\n",
    "                if attr in par\n",
    "            ), None)\n",
    "            # print(f'inits: attr={attr}, par={par}')\n",
    "            if par is not None:\n",
    "                inits[attr] = par\n",
    "        # print('inits: inits=', inits)\n",
    "        return inits\n",
    "\n",
    "    @classmethod\n",
    "    def signature_vars(cls, obj):\n",
    "        \"\"\"return a map of __init__ arguments names to attribute names\"\"\"\n",
    "        return {\n",
    "            val: key for key, val in\n",
    "            cls.vars_signature().items()\n",
    "        }\n",
    "\n",
    "    @property\n",
    "    def init_kwargs(self):\n",
    "        return {\n",
    "            key: getattr(self, attr, None)\n",
    "            for key, attr in self.signature_vars().items()\n",
    "        }\n",
    "    \n",
    "    def __repr__(self):\n",
    "        args = ', '.join(\n",
    "            f\"{key}='{str(val)}'\"\n",
    "            for key, val in self.init_kwargs.items()\n",
    "        )\n",
    "        return f\"{self.__class__.__name__}({args})\"\n",
    "\n",
    "class Stock(AutoRepr):\n",
    "    def __init__(self, symbol, date, open_, high, low, close, volume):\n",
    "        self.symbol = symbol\n",
    "        self.date = date\n",
    "        self.open = open_\n",
    "        self.high = high\n",
    "        self.low = low\n",
    "        self.close = close\n",
    "        self.volume = volume\n",
    "        \n",
    "class Trade(AutoRepr):\n",
    "    def __init__(self, symbol, timestamp, order, price, volume, commission):\n",
    "        self.symbol = symbol\n",
    "        self.timestamp = timestamp\n",
    "        self.order = order\n",
    "        self.price = price\n",
    "        self.commission = commission\n",
    "        self.volume = volume\n",
    "        \n",
    "stock1 = Stock('TSLA', date(2018, 11, 22), \n",
    "  Decimal('338.19'), Decimal('338.64'), Decimal('337.60'), Decimal('338.19'), 365_607)\n",
    "\n",
    "print(stock1)"
   ],
   "outputs": [
    {
     "output_type": "stream",
     "name": "stdout",
     "text": [
      "inits: vars(cls)= {'__module__': '__main__', '__init__': <function Stock.__init__ at 0x7ff2c0019160>, '__doc__': None}\n",
      "inits: attr=__module__, par=None\n",
      "inits: attr=__init__, par=None\n",
      "inits: attr=__doc__, par=None\n",
      "inits: inits= {}\n",
      "Stock()\n"
     ]
    }
   ],
   "metadata": {}
  },
  {
   "cell_type": "markdown",
   "source": [
    "#### Exercise 1"
   ],
   "metadata": {}
  },
  {
   "cell_type": "markdown",
   "source": [
    "Given the above class, write a custom `JSONEncoder` class to **serialize** dictionaries that contain instances of these particular classes. Keep in mind that you will want to deserialize the data too - so you will need some technique to indicate the object type in your serialization."
   ],
   "metadata": {}
  },
  {
   "cell_type": "markdown",
   "source": [
    "For example you may have an object such as this one that needs to be serialized:"
   ],
   "metadata": {}
  },
  {
   "cell_type": "code",
   "execution_count": 2,
   "source": [
    "from datetime import date, datetime\n",
    "from decimal import Decimal\n",
    "\n",
    "activity = {\n",
    "    \"quotes\": [\n",
    "        Stock('TSLA', date(2018, 11, 22), \n",
    "              Decimal('338.19'), Decimal('338.64'), Decimal('337.60'), Decimal('338.19'), 365_607),\n",
    "        Stock('AAPL', date(2018, 11, 22), \n",
    "              Decimal('176.66'), Decimal('177.25'), Decimal('176.64'), Decimal('176.78'), 3_699_184),\n",
    "        Stock('MSFT', date(2018, 11, 22), \n",
    "              Decimal('103.25'), Decimal('103.48'), Decimal('103.07'), Decimal('103.11'), 4_493_689)\n",
    "    ],\n",
    "    \n",
    "    \"trades\": [\n",
    "        Trade('TSLA', datetime(2018, 11, 22, 10, 5, 12), 'buy', Decimal('338.25'), 100, Decimal('9.99')),\n",
    "        Trade('AAPL', datetime(2018, 11, 22, 10, 30, 5), 'sell', Decimal('177.01'), 20, Decimal('9.99'))\n",
    "    ]\n",
    "}"
   ],
   "outputs": [],
   "metadata": {}
  },
  {
   "cell_type": "code",
   "execution_count": 9,
   "source": [
    "stock1 = Stock('TSLA', date(2018, 11, 22), \n",
    "  Decimal('338.19'), Decimal('338.64'), Decimal('337.60'), Decimal('338.19'), 365_607)\n",
    "\n",
    "dec1 = Decimal('338.19')\n",
    "date.today().isoformat()\n",
    "datetime.now().isoformat()\n",
    "\n",
    "print(vars(stock1))"
   ],
   "outputs": [
    {
     "output_type": "stream",
     "name": "stdout",
     "text": [
      "{'symbol': 'TSLA', 'date': datetime.date(2018, 11, 22), 'open': Decimal('338.19'), 'high': Decimal('338.64'), 'low': Decimal('337.60'), 'close': Decimal('338.19'), 'volume': 365607}\n"
     ]
    }
   ],
   "metadata": {}
  },
  {
   "cell_type": "code",
   "execution_count": 37,
   "source": [
    "\n",
    "import json\n",
    "import functools\n",
    "\n",
    "@functools.singledispatch\n",
    "def custom_dumps(arg)->str:\n",
    "    return str(arg)\n",
    "\n",
    "@custom_dumps.register(Decimal)\n",
    "def _(arg:Decimal)->str:\n",
    "    return f\"Decimal({str(arg)})\"\n",
    "\n",
    "@custom_dumps.register(date)\n",
    "def _(arg:date)->str:\n",
    "    return {'class_date': arg.isoformat()}\n",
    "\n",
    "@custom_dumps.register(datetime)\n",
    "def _(arg:datetime)->str:\n",
    "    return {'class_datetime': arg.isoformat()}\n",
    "\n",
    "@custom_dumps.register(Stock)\n",
    "def _(arg:Stock)->str:\n",
    "    return {'class_stock': vars(arg)}\n",
    "\n",
    "@custom_dumps.register(Trade)\n",
    "def _(arg:Trade)->str:\n",
    "    return {'class_trade': vars(arg)}\n",
    "\n",
    "class CustomJSONEncoder(json.JSONEncoder):\n",
    "    def __init__(self, *args, **kwargs):\n",
    "        super().__init__(*args, **{**kwargs, 'indent': 2})\n",
    "    \n",
    "    def default(self, arg):\n",
    "        return custom_dumps(arg)\n",
    "\n",
    "result1 = json.dumps(activity, default=custom_dumps, indent=2)\n",
    "result2 = json.dumps(activity, cls=CustomJSONEncoder)\n",
    "\n",
    "print(result1 == result2)\n",
    "with open('activity_1.json', 'w', newline='') as file:\n",
    "    file.write(result1)\n",
    "with open('activity_2.json', 'w', newline='') as file:\n",
    "    file.write(result2)"
   ],
   "outputs": [
    {
     "output_type": "stream",
     "name": "stdout",
     "text": [
      "True\n"
     ]
    }
   ],
   "metadata": {}
  },
  {
   "cell_type": "markdown",
   "source": [
    "Hint: You can modify the classes if you need to."
   ],
   "metadata": {}
  },
  {
   "cell_type": "markdown",
   "source": [
    "#### Exercise 2"
   ],
   "metadata": {}
  },
  {
   "cell_type": "markdown",
   "source": [
    "Write code to reverse the serialization you just created. Write a custom decoder that can deserialize a JSON structure containing `Stock` and `Trade` objects. "
   ],
   "metadata": {}
  },
  {
   "cell_type": "code",
   "execution_count": 42,
   "source": [
    "\n",
    "import re\n",
    "\n",
    "decimal_re = re.compile('Decimal\\(.+\\)')\n",
    "\n",
    "print(decimal_re.search('Decimal(2.456)'))\n",
    "print(decimal_re.search('2.456'))\n",
    "\n",
    "arg = 'Decimal(2.456)'\n",
    "if isinstance(arg, str) and decimal_re.match(arg):\n",
    "    val = Decimal(arg.strip('Decimal()'))\n",
    "    print(type(val))"
   ],
   "outputs": [
    {
     "output_type": "stream",
     "name": "stdout",
     "text": [
      "<re.Match object; span=(0, 14), match='Decimal(2.456)'>\n",
      "None\n",
      "<class 'decimal.Decimal'>\n"
     ]
    }
   ],
   "metadata": {}
  },
  {
   "cell_type": "code",
   "execution_count": 65,
   "source": [
    "\n",
    "\n",
    "def my_hook(arg):\n",
    "    # print('\\n\\nreading:', type(arg), arg)\n",
    "    for key, val in arg.items():\n",
    "        if decimal_re.match(val):\n",
    "            arg.update({key: Decimal(val.strip(' Decimal()'))})\n",
    "    for label, Class in (\n",
    "            ('class_date', date),\n",
    "            ('class_datetime', datetime)\n",
    "        ):\n",
    "        return Class.fromisoformat(arg[label])\n",
    "    for label, Class in (\n",
    "            ('class_stock', Stock),\n",
    "            ('class_trade', Trade)\n",
    "        ):\n",
    "        kwargs = arg[label]\n",
    "        init_map = Class.vars_signature()\n",
    "        return Class(**{init_map[k]:v for k,v in kwargs.items()})\n",
    "    else:\n",
    "        return arg\n",
    "\n",
    "\n",
    "# activity_loaded = json.loads(result1, object_pair_hook=my_pair_hook)\n",
    "activity_loaded = json.loads(result1, object_hook=my_hook)\n",
    "print(activity_loaded)"
   ],
   "outputs": [
    {
     "output_type": "error",
     "ename": "TypeError",
     "evalue": "expected string or bytes-like object",
     "traceback": [
      "\u001b[0;31m---------------------------------------------------------------------------\u001b[0m",
      "\u001b[0;31mTypeError\u001b[0m                                 Traceback (most recent call last)",
      "\u001b[0;32m/var/folders/1q/bpdx_bc93z33jkwmgzjk78_m0000gn/T/ipykernel_52504/3999094531.py\u001b[0m in \u001b[0;36m<module>\u001b[0;34m\u001b[0m\n\u001b[1;32m     21\u001b[0m \u001b[0;34m\u001b[0m\u001b[0m\n\u001b[1;32m     22\u001b[0m \u001b[0;31m# activity_loaded = json.loads(result1, object_pair_hook=my_pair_hook)\u001b[0m\u001b[0;34m\u001b[0m\u001b[0;34m\u001b[0m\u001b[0;34m\u001b[0m\u001b[0m\n\u001b[0;32m---> 23\u001b[0;31m \u001b[0mactivity_loaded\u001b[0m \u001b[0;34m=\u001b[0m \u001b[0mjson\u001b[0m\u001b[0;34m.\u001b[0m\u001b[0mloads\u001b[0m\u001b[0;34m(\u001b[0m\u001b[0mresult1\u001b[0m\u001b[0;34m,\u001b[0m \u001b[0mobject_hook\u001b[0m\u001b[0;34m=\u001b[0m\u001b[0mmy_hook\u001b[0m\u001b[0;34m)\u001b[0m\u001b[0;34m\u001b[0m\u001b[0;34m\u001b[0m\u001b[0m\n\u001b[0m\u001b[1;32m     24\u001b[0m \u001b[0mprint\u001b[0m\u001b[0;34m(\u001b[0m\u001b[0mactivity_loaded\u001b[0m\u001b[0;34m)\u001b[0m\u001b[0;34m\u001b[0m\u001b[0;34m\u001b[0m\u001b[0m\n",
      "\u001b[0;32m/Library/Frameworks/Python.framework/Versions/3.8/lib/python3.8/json/__init__.py\u001b[0m in \u001b[0;36mloads\u001b[0;34m(s, cls, object_hook, parse_float, parse_int, parse_constant, object_pairs_hook, **kw)\u001b[0m\n\u001b[1;32m    368\u001b[0m     \u001b[0;32mif\u001b[0m \u001b[0mparse_constant\u001b[0m \u001b[0;32mis\u001b[0m \u001b[0;32mnot\u001b[0m \u001b[0;32mNone\u001b[0m\u001b[0;34m:\u001b[0m\u001b[0;34m\u001b[0m\u001b[0;34m\u001b[0m\u001b[0m\n\u001b[1;32m    369\u001b[0m         \u001b[0mkw\u001b[0m\u001b[0;34m[\u001b[0m\u001b[0;34m'parse_constant'\u001b[0m\u001b[0;34m]\u001b[0m \u001b[0;34m=\u001b[0m \u001b[0mparse_constant\u001b[0m\u001b[0;34m\u001b[0m\u001b[0;34m\u001b[0m\u001b[0m\n\u001b[0;32m--> 370\u001b[0;31m     \u001b[0;32mreturn\u001b[0m \u001b[0mcls\u001b[0m\u001b[0;34m(\u001b[0m\u001b[0;34m**\u001b[0m\u001b[0mkw\u001b[0m\u001b[0;34m)\u001b[0m\u001b[0;34m.\u001b[0m\u001b[0mdecode\u001b[0m\u001b[0;34m(\u001b[0m\u001b[0ms\u001b[0m\u001b[0;34m)\u001b[0m\u001b[0;34m\u001b[0m\u001b[0;34m\u001b[0m\u001b[0m\n\u001b[0m",
      "\u001b[0;32m/Library/Frameworks/Python.framework/Versions/3.8/lib/python3.8/json/decoder.py\u001b[0m in \u001b[0;36mdecode\u001b[0;34m(self, s, _w)\u001b[0m\n\u001b[1;32m    335\u001b[0m \u001b[0;34m\u001b[0m\u001b[0m\n\u001b[1;32m    336\u001b[0m         \"\"\"\n\u001b[0;32m--> 337\u001b[0;31m         \u001b[0mobj\u001b[0m\u001b[0;34m,\u001b[0m \u001b[0mend\u001b[0m \u001b[0;34m=\u001b[0m \u001b[0mself\u001b[0m\u001b[0;34m.\u001b[0m\u001b[0mraw_decode\u001b[0m\u001b[0;34m(\u001b[0m\u001b[0ms\u001b[0m\u001b[0;34m,\u001b[0m \u001b[0midx\u001b[0m\u001b[0;34m=\u001b[0m\u001b[0m_w\u001b[0m\u001b[0;34m(\u001b[0m\u001b[0ms\u001b[0m\u001b[0;34m,\u001b[0m \u001b[0;36m0\u001b[0m\u001b[0;34m)\u001b[0m\u001b[0;34m.\u001b[0m\u001b[0mend\u001b[0m\u001b[0;34m(\u001b[0m\u001b[0;34m)\u001b[0m\u001b[0;34m)\u001b[0m\u001b[0;34m\u001b[0m\u001b[0;34m\u001b[0m\u001b[0m\n\u001b[0m\u001b[1;32m    338\u001b[0m         \u001b[0mend\u001b[0m \u001b[0;34m=\u001b[0m \u001b[0m_w\u001b[0m\u001b[0;34m(\u001b[0m\u001b[0ms\u001b[0m\u001b[0;34m,\u001b[0m \u001b[0mend\u001b[0m\u001b[0;34m)\u001b[0m\u001b[0;34m.\u001b[0m\u001b[0mend\u001b[0m\u001b[0;34m(\u001b[0m\u001b[0;34m)\u001b[0m\u001b[0;34m\u001b[0m\u001b[0;34m\u001b[0m\u001b[0m\n\u001b[1;32m    339\u001b[0m         \u001b[0;32mif\u001b[0m \u001b[0mend\u001b[0m \u001b[0;34m!=\u001b[0m \u001b[0mlen\u001b[0m\u001b[0;34m(\u001b[0m\u001b[0ms\u001b[0m\u001b[0;34m)\u001b[0m\u001b[0;34m:\u001b[0m\u001b[0;34m\u001b[0m\u001b[0;34m\u001b[0m\u001b[0m\n",
      "\u001b[0;32m/Library/Frameworks/Python.framework/Versions/3.8/lib/python3.8/json/decoder.py\u001b[0m in \u001b[0;36mraw_decode\u001b[0;34m(self, s, idx)\u001b[0m\n\u001b[1;32m    351\u001b[0m         \"\"\"\n\u001b[1;32m    352\u001b[0m         \u001b[0;32mtry\u001b[0m\u001b[0;34m:\u001b[0m\u001b[0;34m\u001b[0m\u001b[0;34m\u001b[0m\u001b[0m\n\u001b[0;32m--> 353\u001b[0;31m             \u001b[0mobj\u001b[0m\u001b[0;34m,\u001b[0m \u001b[0mend\u001b[0m \u001b[0;34m=\u001b[0m \u001b[0mself\u001b[0m\u001b[0;34m.\u001b[0m\u001b[0mscan_once\u001b[0m\u001b[0;34m(\u001b[0m\u001b[0ms\u001b[0m\u001b[0;34m,\u001b[0m \u001b[0midx\u001b[0m\u001b[0;34m)\u001b[0m\u001b[0;34m\u001b[0m\u001b[0;34m\u001b[0m\u001b[0m\n\u001b[0m\u001b[1;32m    354\u001b[0m         \u001b[0;32mexcept\u001b[0m \u001b[0mStopIteration\u001b[0m \u001b[0;32mas\u001b[0m \u001b[0merr\u001b[0m\u001b[0;34m:\u001b[0m\u001b[0;34m\u001b[0m\u001b[0;34m\u001b[0m\u001b[0m\n\u001b[1;32m    355\u001b[0m             \u001b[0;32mraise\u001b[0m \u001b[0mJSONDecodeError\u001b[0m\u001b[0;34m(\u001b[0m\u001b[0;34m\"Expecting value\"\u001b[0m\u001b[0;34m,\u001b[0m \u001b[0ms\u001b[0m\u001b[0;34m,\u001b[0m \u001b[0merr\u001b[0m\u001b[0;34m.\u001b[0m\u001b[0mvalue\u001b[0m\u001b[0;34m)\u001b[0m \u001b[0;32mfrom\u001b[0m \u001b[0;32mNone\u001b[0m\u001b[0;34m\u001b[0m\u001b[0;34m\u001b[0m\u001b[0m\n",
      "\u001b[0;32m/var/folders/1q/bpdx_bc93z33jkwmgzjk78_m0000gn/T/ipykernel_52504/3999094531.py\u001b[0m in \u001b[0;36mmy_hook\u001b[0;34m(arg)\u001b[0m\n\u001b[1;32m      2\u001b[0m     \u001b[0;31m# print('\\n\\nreading:', type(arg), arg)\u001b[0m\u001b[0;34m\u001b[0m\u001b[0;34m\u001b[0m\u001b[0;34m\u001b[0m\u001b[0m\n\u001b[1;32m      3\u001b[0m     \u001b[0;32mfor\u001b[0m \u001b[0mkey\u001b[0m\u001b[0;34m,\u001b[0m \u001b[0mval\u001b[0m \u001b[0;32min\u001b[0m \u001b[0marg\u001b[0m\u001b[0;34m.\u001b[0m\u001b[0mitems\u001b[0m\u001b[0;34m(\u001b[0m\u001b[0;34m)\u001b[0m\u001b[0;34m:\u001b[0m\u001b[0;34m\u001b[0m\u001b[0;34m\u001b[0m\u001b[0m\n\u001b[0;32m----> 4\u001b[0;31m         \u001b[0;32mif\u001b[0m \u001b[0mdecimal_re\u001b[0m\u001b[0;34m.\u001b[0m\u001b[0mmatch\u001b[0m\u001b[0;34m(\u001b[0m\u001b[0mval\u001b[0m\u001b[0;34m)\u001b[0m\u001b[0;34m:\u001b[0m\u001b[0;34m\u001b[0m\u001b[0;34m\u001b[0m\u001b[0m\n\u001b[0m\u001b[1;32m      5\u001b[0m             \u001b[0marg\u001b[0m\u001b[0;34m.\u001b[0m\u001b[0mupdate\u001b[0m\u001b[0;34m(\u001b[0m\u001b[0;34m{\u001b[0m\u001b[0mkey\u001b[0m\u001b[0;34m:\u001b[0m \u001b[0mDecimal\u001b[0m\u001b[0;34m(\u001b[0m\u001b[0mval\u001b[0m\u001b[0;34m.\u001b[0m\u001b[0mstrip\u001b[0m\u001b[0;34m(\u001b[0m\u001b[0;34m' Decimal()'\u001b[0m\u001b[0;34m)\u001b[0m\u001b[0;34m)\u001b[0m\u001b[0;34m}\u001b[0m\u001b[0;34m)\u001b[0m\u001b[0;34m\u001b[0m\u001b[0;34m\u001b[0m\u001b[0m\n\u001b[1;32m      6\u001b[0m     for label, Class in (\n",
      "\u001b[0;31mTypeError\u001b[0m: expected string or bytes-like object"
     ]
    }
   ],
   "metadata": {}
  },
  {
   "cell_type": "markdown",
   "source": [
    "#### Exercise 3"
   ],
   "metadata": {}
  },
  {
   "cell_type": "markdown",
   "source": [
    "Do the same serialization and deserialization, but using `Marshmallow`."
   ],
   "metadata": {}
  }
 ],
 "metadata": {
  "kernelspec": {
   "name": "python3",
   "display_name": "Python 3.8.2 64-bit"
  },
  "language_info": {
   "codemirror_mode": {
    "name": "ipython",
    "version": 3
   },
   "file_extension": ".py",
   "mimetype": "text/x-python",
   "name": "python",
   "nbconvert_exporter": "python",
   "pygments_lexer": "ipython3",
   "version": "3.8.2"
  },
  "interpreter": {
   "hash": "4cd7ab41f5fca4b9b44701077e38c5ffd31fe66a6cab21e0214b68d958d0e462"
  }
 },
 "nbformat": 4,
 "nbformat_minor": 2
}