{
 "cells": [
  {
   "cell_type": "markdown",
   "source": [
    "### Exercises"
   ],
   "metadata": {}
  },
  {
   "cell_type": "markdown",
   "source": [
    "#### Exercise #1"
   ],
   "metadata": {}
  },
  {
   "cell_type": "markdown",
   "source": [
    "Let's revisit an exercise we did right after the section on dictionaries.\n",
    "\n",
    "You have text data spread across multiple servers. Each server is able to analyze this data and return a dictionary that contains words and their frequency.\n",
    "\n",
    "Your job is to combine this data to create a single dictionary that contains all the words and their combined frequencies from all these data sources. Bonus points if you can make your dictionary sorted by frequency (highest to lowest).\n",
    "\n",
    "For example, you may have three servers that each return these dictionaries:"
   ],
   "metadata": {}
  },
  {
   "cell_type": "code",
   "execution_count": 13,
   "source": [
    "d1 = {'python': 10, 'java': 3, 'c#': 8, 'javascript': 15}\n",
    "d2 = {'java': 10, 'c++': 10, 'c#': 4, 'go': 9, 'python': 6}\n",
    "d3 = {'erlang': 5, 'haskell': 2, 'python': 1, 'pascal': 1}"
   ],
   "outputs": [],
   "metadata": {}
  },
  {
   "cell_type": "markdown",
   "source": [
    "Your resulting dictionary should look like this:"
   ],
   "metadata": {}
  },
  {
   "cell_type": "code",
   "execution_count": 14,
   "source": [
    "d = {'python': 17,\n",
    "     'javascript': 15,\n",
    "     'java': 13,\n",
    "     'c#': 12,\n",
    "     'c++': 10,\n",
    "     'go': 9,\n",
    "     'erlang': 5,\n",
    "     'haskell': 2,\n",
    "     'pascal': 1}"
   ],
   "outputs": [],
   "metadata": {}
  },
  {
   "cell_type": "markdown",
   "source": [
    "If only servers 1 and 2 return data (so d1 and d2), your results would look like:"
   ],
   "metadata": {}
  },
  {
   "cell_type": "code",
   "execution_count": 15,
   "source": [
    "d = {'python': 16,\n",
    "     'javascript': 15,\n",
    "     'java': 13,\n",
    "     'c#': 12,\n",
    "     'c++': 10, \n",
    "     'go': 9}"
   ],
   "outputs": [],
   "metadata": {}
  },
  {
   "cell_type": "markdown",
   "source": [
    "This was one solution to the problem:"
   ],
   "metadata": {}
  },
  {
   "cell_type": "code",
   "execution_count": 16,
   "source": [
    "def merge(*dicts):\n",
    "    unsorted = {}\n",
    "    for d in dicts:\n",
    "        for k, v in d.items():\n",
    "            unsorted[k] = unsorted.get(k, 0) + v\n",
    "            \n",
    "    # create a dictionary sorted by value\n",
    "    return dict(sorted(unsorted.items(), key=lambda e: e[1], reverse=True))"
   ],
   "outputs": [],
   "metadata": {}
  },
  {
   "cell_type": "markdown",
   "source": [
    "Implement two different solutions to this problem:\n",
    "\n",
    "**a**: Using `defaultdict` objects\n",
    "\n",
    "**b**: Using `Counter` objects"
   ],
   "metadata": {}
  },
  {
   "cell_type": "code",
   "execution_count": 17,
   "source": [
    "\n",
    "from collections import defaultdict, Counter\n",
    "\n",
    "ddd = {'python': 17,\n",
    "    'javascript': 15,\n",
    "    'java': 13,\n",
    "    'c#': 12,\n",
    "    'c++': 10,\n",
    "    'go': 9,\n",
    "    'erlang': 5,\n",
    "    'haskell': 2,\n",
    "    'pascal': 1}\n",
    "\n",
    "dd = {'python': 16,\n",
    "    'javascript': 15,\n",
    "    'java': 13,\n",
    "    'c#': 12,\n",
    "    'c++': 10, \n",
    "    'go': 9}\n",
    "\n",
    "def tot_freqs(*dcts)->dict:\n",
    "    total = defaultdict(int)\n",
    "    for dct in dcts:\n",
    "        for key, val in dct.items():\n",
    "            total[key] += val\n",
    "    return dict(\n",
    "        sorted(total.items(),\n",
    "            key = lambda x: x[1],\n",
    "            reverse=True\n",
    "        )\n",
    "    )\n",
    "\n",
    "def sorted_counter(*dcts)->dict:\n",
    "    tot_counter = sum(\n",
    "        map(Counter,dcts),\n",
    "        Counter()\n",
    "    )\n",
    "    return dict(tot_counter.most_common())\n",
    "\n",
    "print(tot_freqs(d1,d2,d3))\n",
    "print(sorted_counter(d1,d2,d3))\n",
    "\n",
    "print('ddd == tot_freqs(d1,d2,d3)?',\n",
    "    ddd == tot_freqs(d1,d2,d3))\n",
    "print('dd == tot_freqs(d1,d2)?',\n",
    "    dd == tot_freqs(d1,d2))\n",
    "print('ddd == sorted_counter(d1,d2,d3)?',\n",
    "    ddd == sorted_counter(d1,d2,d3))\n",
    "print('dd == sorted_counter(d1,d2)?',\n",
    "    dd == sorted_counter(d1,d2))\n",
    "\n",
    "\n"
   ],
   "outputs": [
    {
     "output_type": "stream",
     "name": "stdout",
     "text": [
      "{'python': 17, 'javascript': 15, 'java': 13, 'c#': 12, 'c++': 10, 'go': 9, 'erlang': 5, 'haskell': 2, 'pascal': 1}\n",
      "{'python': 17, 'javascript': 15, 'java': 13, 'c#': 12, 'c++': 10, 'go': 9, 'erlang': 5, 'haskell': 2, 'pascal': 1}\n",
      "ddd == tot_freqs(d1,d2,d3)? True\n",
      "dd == tot_freqs(d1,d2)? True\n",
      "ddd == sorted_counter(d1,d2,d3)? True\n",
      "dd == sorted_counter(d1,d2)? True\n"
     ]
    }
   ],
   "metadata": {}
  },
  {
   "cell_type": "markdown",
   "source": [
    "---"
   ],
   "metadata": {}
  },
  {
   "cell_type": "markdown",
   "source": [
    "#### Exercise #2"
   ],
   "metadata": {}
  },
  {
   "cell_type": "markdown",
   "source": [
    "Suppose you have a list of all possible eye colors:"
   ],
   "metadata": {}
  },
  {
   "cell_type": "code",
   "execution_count": 18,
   "source": [
    "eye_colors = (\"amber\", \"blue\", \"brown\", \"gray\", \"green\", \"hazel\", \"red\", \"violet\")"
   ],
   "outputs": [],
   "metadata": {}
  },
  {
   "cell_type": "markdown",
   "source": [
    "Some other collection (say recovered from a database, or an external API) contains a list of `Person` objects that have an eye color property.\n",
    "\n",
    "Your goal is to create a dictionary that contains the number of people that have the eye color as specified in `eye_colors`. The wrinkle here is that even if no one matches some eye color, say `amber`, your dictionary should still contain an entry `\"amber\": 0`."
   ],
   "metadata": {}
  },
  {
   "cell_type": "markdown",
   "source": [
    "Here is some sample data:"
   ],
   "metadata": {}
  },
  {
   "cell_type": "code",
   "execution_count": 19,
   "source": [
    "class Person:\n",
    "    def __init__(self, eye_color):\n",
    "        self.eye_color = eye_color"
   ],
   "outputs": [],
   "metadata": {}
  },
  {
   "cell_type": "code",
   "execution_count": 20,
   "source": [
    "from random import seed, choices\n",
    "seed(0)\n",
    "persons = [Person(color) for color in choices(eye_colors[2:], k = 50)]"
   ],
   "outputs": [],
   "metadata": {}
  },
  {
   "cell_type": "code",
   "execution_count": 36,
   "source": [
    "\n",
    "def count_eye_colors(people)->dict:\n",
    "    # starter = dict.fromkeys(eye_colors, 0)\n",
    "    count = Counter({ color: 0 for color in eye_colors })\n",
    "    count.update( Counter(\n",
    "        person.eye_color\n",
    "        for person in people\n",
    "    ) )\n",
    "    return count\n",
    "\n",
    "eye_colors_freqs = count_eye_colors(persons)\n",
    "\n",
    "print(eye_colors_freqs)\n",
    "print(\n",
    "    'eye_colors keys are all contained in count_eye_colors(persons)?',\n",
    "    all( color in eye_colors_freqs for color in eye_colors )\n",
    ")"
   ],
   "outputs": [
    {
     "output_type": "stream",
     "name": "stdout",
     "text": [
      "Counter({'violet': 12, 'gray': 10, 'red': 10, 'green': 8, 'hazel': 7, 'brown': 3, 'amber': 0, 'blue': 0})\n",
      "eye_colors keys are all contained in count_eye_colors(persons)? True\n"
     ]
    }
   ],
   "metadata": {}
  },
  {
   "cell_type": "markdown",
   "source": [
    "As you can see we built up a list of `Person` objects, none of which should have `amber` or `blue` eye colors"
   ],
   "metadata": {}
  },
  {
   "cell_type": "markdown",
   "source": [
    "Write a function that returns a dictionary with the correct counts for each eye color listed in `eye_colors`."
   ],
   "metadata": {}
  },
  {
   "cell_type": "markdown",
   "source": [
    "#### Exercise #3"
   ],
   "metadata": {}
  },
  {
   "cell_type": "markdown",
   "source": [
    "You are given three JSON files, representing a default set of settings, and environment specific settings.\n",
    "The files are included in the downloads, and are named:\n",
    "* `common.json`\n",
    "* `dev.json`\n",
    "* `prod.json`\n",
    "\n",
    "Your goal is to write a function that has a single argument (the environment name) and returns the \"combined\" dictionary that merges the two dictionaries together, with the environment specific settings overriding any common settings already defined.\n",
    "\n",
    "For simplicity, assume that the argument values are going to be the same as the file names, without the `.json` extension. So for example, `dev` or `prod`.\n",
    "\n",
    "The wrinkle: We don't want to duplicate data for the \"merged\" dictionary - use `ChainMap` to implement this instead."
   ],
   "metadata": {}
  },
  {
   "cell_type": "code",
   "execution_count": 41,
   "source": [
    "import json\n",
    "from collections import ChainMap\n",
    "\n",
    "envs_keys = ['common','dev','prod']\n",
    "\n",
    "envs = {k: json.loads(open(k+'.json').read()) for k in envs_keys}\n",
    "\n",
    "def get_env(env_key):\n",
    "    return merge(envs['common'], envs[env_key] )\n",
    "\n",
    "def merge(base:dict, to_merge:dict,)->ChainMap:\n",
    "    cmap = ChainMap({}, to_merge, base)\n",
    "    for key in cmap.keys():\n",
    "        if any(\n",
    "                isinstance(dct.get(key, None), dict)\n",
    "                for dct in (base, to_merge,)\n",
    "            ):\n",
    "            cmap[key] = merge(\n",
    "                base.get(key, {}),\n",
    "                to_merge.get(key,{})\n",
    "            )\n",
    "    return cmap\n",
    "# common_env = get_env('common')\n",
    "dev_env = get_env('dev')\n",
    "prod_env = get_env('prod')\n",
    "\n",
    "def cast_to_dict(cmap:ChainMap)->dict:\n",
    "    return {\n",
    "        key: isinstance(val, ChainMap) and cast_to_dict(val) or val\n",
    "        for key, val in cmap.items()\n",
    "    }\n",
    "\n",
    "# print(json.dumps(cast_to_dict(dev_env), indent=2))\n",
    "\n",
    "print(prod_env['logs'] == envs['common']['logs'])\n",
    "print(dev_env['logs'] == envs['dev']['logs'])\n"
   ],
   "outputs": [
    {
     "output_type": "stream",
     "name": "stdout",
     "text": [
      "True\n",
      "True\n"
     ]
    }
   ],
   "metadata": {}
  },
  {
   "cell_type": "code",
   "execution_count": null,
   "source": [],
   "outputs": [],
   "metadata": {}
  }
 ],
 "metadata": {
  "kernelspec": {
   "name": "python3",
   "display_name": "Python 3.7.3 64-bit ('base': conda)"
  },
  "language_info": {
   "codemirror_mode": {
    "name": "ipython",
    "version": 3
   },
   "file_extension": ".py",
   "mimetype": "text/x-python",
   "name": "python",
   "nbconvert_exporter": "python",
   "pygments_lexer": "ipython3",
   "version": "3.7.3"
  },
  "interpreter": {
   "hash": "05878f9eac60a04469fda32c3866faba5cd75d3b149b650225548106c61b6513"
  }
 },
 "nbformat": 4,
 "nbformat_minor": 2
}